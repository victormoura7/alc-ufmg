{
 "cells": [
  {
   "cell_type": "markdown",
   "metadata": {},
   "source": [
    "# Exercício de Programação 1\n",
    "\n",
    "<font color=\"red\">**Prazo de submissão: 23:55 do dia 19/03/2020** </font>\n",
    "\n",
    "2020.1 Álgebra Linear Computacional - DCC - UFMG\n",
    "\n",
    "Erickson - Fabricio\n",
    "\n",
    "Instruções:\n",
    "* Antes de submeter suas soluções, certifique-se de que tudo roda como esperado. Primeiro, **reinicie o kernel** no menu, selecione Kernel$\\rightarrow$Restart e então execute **todas as células** (no menu, Cell$\\rightarrow$Run All)\n",
    "* Apenas o arquivo .ipynb deve ser submetido. Ele não deve ser compactado.\n",
    "* Não deixe de preencher seu nome e número de matrícula na célula a seguir"
   ]
  },
  {
   "cell_type": "markdown",
   "metadata": {},
   "source": [
    "Nome do aluno: Victor Moura Martins da Costa\n",
    "\n",
    "Matricula: 2017014766"
   ]
  },
  {
   "cell_type": "markdown",
   "metadata": {},
   "source": [
    "## Parte 1: Python básico"
   ]
  },
  {
   "cell_type": "code",
   "execution_count": 1,
   "metadata": {
    "ExecuteTime": {
     "end_time": "2019-08-14T18:43:54.939490Z",
     "start_time": "2019-08-14T18:43:54.936371Z"
    }
   },
   "outputs": [
    {
     "name": "stdout",
     "output_type": "stream",
     "text": [
      "1\n",
      "2\n",
      "3\n",
      "4\n",
      "5\n",
      "6\n",
      "7\n",
      "8\n",
      "9\n",
      "10\n"
     ]
    }
   ],
   "source": [
    "# Exercício 1 - Imprima na tela os números de 1 a 10 e armazene-os em uma lista.\n",
    "lista = []\n",
    "for x in range(1,11):\n",
    "    print(x)\n",
    "    lista += [x]"
   ]
  },
  {
   "cell_type": "code",
   "execution_count": 2,
   "metadata": {
    "ExecuteTime": {
     "end_time": "2019-08-14T18:45:00.942384Z",
     "start_time": "2019-08-14T18:45:00.940602Z"
    }
   },
   "outputs": [
    {
     "name": "stdout",
     "output_type": "stream",
     "text": [
      "Hello World\n"
     ]
    }
   ],
   "source": [
    "# Exercício 2 - Crie duas strings e concatene as duas em uma terceira string\n",
    "string1 = 'Hello'\n",
    "string2 = 'World'\n",
    "string3 = string1 + ' ' + string2\n",
    "print(string3)"
   ]
  },
  {
   "cell_type": "code",
   "execution_count": 3,
   "metadata": {},
   "outputs": [
    {
     "name": "stdout",
     "output_type": "stream",
     "text": [
      "3\n"
     ]
    }
   ],
   "source": [
    "# Exercício 3 - Crie uma tupla com os seguintes elementos: 1, 2, 2, 3, 4, 4, 4, 5 e depois utilize a função count do \n",
    "# objeto tupla para verificar quantas vezes o número 4 aparece na tupla\n",
    "tupla = (1, 2, 2, 3, 4, 4, 4, 5)\n",
    "x = tupla.count(4)\n",
    "print(x)"
   ]
  },
  {
   "cell_type": "code",
   "execution_count": 4,
   "metadata": {
    "ExecuteTime": {
     "end_time": "2019-08-14T18:46:37.414570Z",
     "start_time": "2019-08-14T18:46:37.408896Z"
    }
   },
   "outputs": [
    {
     "name": "stdout",
     "output_type": "stream",
     "text": [
      "{'nome': 'Victor', 'sobrenome': 'Moura', 'idade': 21}\n"
     ]
    }
   ],
   "source": [
    "# Exercício 4 - Crie um dicionário com 3 chaves e 3 valores e imprima na tela\n",
    "dicionario = {\"nome\":\"Victor\", \"sobrenome\":\"Moura\", \"idade\":21}\n",
    "print(dicionario)"
   ]
  },
  {
   "cell_type": "code",
   "execution_count": 5,
   "metadata": {
    "ExecuteTime": {
     "end_time": "2019-08-14T18:47:48.172958Z",
     "start_time": "2019-08-14T18:47:48.171251Z"
    }
   },
   "outputs": [
    {
     "name": "stdout",
     "output_type": "stream",
     "text": [
      "{'nome': 'Victor', 'sobrenome': 'Moura', 'idade': 21, 'matricula': 2017014766}\n"
     ]
    }
   ],
   "source": [
    "# Exercício 5 - Adicione mais um elemento ao dicionário criado no exercício anterior e imprima na tela\n",
    "dicionario[\"matricula\"] = 2017014766\n",
    "print(dicionario)"
   ]
  },
  {
   "cell_type": "code",
   "execution_count": 6,
   "metadata": {},
   "outputs": [
    {
     "name": "stdout",
     "output_type": "stream",
     "text": [
      "{'Victor': 'nome', 'Moura': 'sobrenome', '21': 'idade', '2017014766': 'matricula'}\n"
     ]
    }
   ],
   "source": [
    "# Exercício 6 - Crie um novo dicionário invertendo o anterior (isto é, usando os valores como chave e vice-versa)\n",
    "dicionarioInvertido = {\"Victor\":\"nome\", \"Moura\":\"sobrenome\", \"21\":\"idade\", \"2017014766\": \"matricula\"}\n",
    "print(dicionarioInvertido)"
   ]
  },
  {
   "cell_type": "code",
   "execution_count": 7,
   "metadata": {},
   "outputs": [
    {
     "data": {
      "text/plain": [
       "'HELLO WORLD'"
      ]
     },
     "execution_count": 7,
     "metadata": {},
     "output_type": "execute_result"
    }
   ],
   "source": [
    "# Exercício 7 - Crie uma função que receba uma string como argumento e retorne a mesma string em letras maiúsculas.\n",
    "# Faça uma chamada à função, passando como parâmetro uma string\n",
    "def transforma_maiuscula(string):\n",
    "    string_maiuscula = string.upper()\n",
    "    return string_maiuscula\n",
    "\n",
    "string = \"Hello World\"\n",
    "transforma_maiuscula(string)"
   ]
  },
  {
   "cell_type": "code",
   "execution_count": 8,
   "metadata": {},
   "outputs": [
    {
     "name": "stdout",
     "output_type": "stream",
     "text": [
      "[1, 2, 3, 4, 5, 6]\n"
     ]
    }
   ],
   "source": [
    "# Exercício 8 - Crie uma função que receba como parâmetro uma lista de 4 elementos, adicione 2 elementos a lista e \n",
    "# imprima a lista. Esta função não deve retornar nada.\n",
    "def recebe_lista(lista):\n",
    "    lista.append(5)\n",
    "    lista.append(6)\n",
    "\n",
    "lista = [1, 2, 3, 4]\n",
    "recebe_lista(lista)\n",
    "print(lista)"
   ]
  },
  {
   "cell_type": "code",
   "execution_count": 9,
   "metadata": {
    "ExecuteTime": {
     "end_time": "2019-08-14T19:01:46.177621Z",
     "start_time": "2019-08-14T19:01:46.174811Z"
    }
   },
   "outputs": [
    {
     "name": "stdout",
     "output_type": "stream",
     "text": [
      "Qual a temperatura? 30\n",
      "Busque seus casacos.\n"
     ]
    }
   ],
   "source": [
    "# Exercício 9 - Faça a correção dos erros no código abaixo e execute o programa. Dica: são 3 erros.\n",
    "temperatura = float(input('Qual a temperatura? '))\n",
    "if temperatura > 30:\n",
    "    print('Vista roupas leves.')\n",
    "else:\n",
    "    print('Busque seus casacos.')"
   ]
  },
  {
   "cell_type": "code",
   "execution_count": 10,
   "metadata": {},
   "outputs": [
    {
     "name": "stdout",
     "output_type": "stream",
     "text": [
      "4\n"
     ]
    }
   ],
   "source": [
    "# Exercício 10 - Crie uma função que conte quantas vezes a letra \"r\" aparece na frase abaixo. Use um placeholder (%) na \n",
    "# sua instrução de impressão\n",
    "frase = \"All models are wrong, but some are useful (George Box)\"\n",
    "def conta_r(string):\n",
    "    return string.count(\"r\")\n",
    "\n",
    "contador = conta_r(frase)\n",
    "print('%d' % (contador))"
   ]
  },
  {
   "cell_type": "markdown",
   "metadata": {},
   "source": [
    "## Parte 2: numpy"
   ]
  },
  {
   "cell_type": "markdown",
   "metadata": {},
   "source": [
    "## Questão 1\n",
    "\n",
    "Crie as matrizes A, B e C abaixo e resolva as questões:\n",
    "1. [ ] Calcule $(((A^T B)+B)C^{-1})$\n",
    "2. [ ] Crie matrizes $\\tilde A_{2x2}, \\tilde B_{2x2}, \\tilde C_{2x2}$, tal que sejam compostas pelo 2 primeiros elementos de cada linha das duas primeiras linhas. E repita a equação do item anterior.\n",
    "\n",
    "**Dica** numpy.full, numpy.eye, numpy.ones e indexação de vetores.\n",
    "\n",
    "$$\n",
    "A = \\begin{bmatrix}\n",
    " 8 & 8 & 8\\\\\n",
    " 8 & 8 & 8\\\\\n",
    " 8 & 8 & 8\n",
    "\\end{bmatrix}_{3\\times 3}\n",
    "\\qquad\n",
    "B = \\begin{bmatrix}\n",
    " 1 & 1 & 1 & 1\\\\\n",
    " 1 & 1 & 1 & 1\\\\\n",
    " 1 & 1 & 1 & 1\n",
    "\\end{bmatrix}_{3\\times 4}\n",
    "\\qquad\n",
    "C = \\begin{bmatrix}\n",
    " 1 & 0 & 0 & 0 \\\\\n",
    " 0 & 1 & 0 & 0 \\\\\n",
    " 0 & 0 & 1 & 0 \\\\\n",
    " 0 & 0 & 0 & 1\n",
    "\\end{bmatrix}_{4\\times 4}\n",
    "$$"
   ]
  },
  {
   "cell_type": "code",
   "execution_count": 11,
   "metadata": {},
   "outputs": [
    {
     "name": "stdout",
     "output_type": "stream",
     "text": [
      "Exercício 1:\n",
      " [[25. 25. 25. 25.]\n",
      " [25. 25. 25. 25.]\n",
      " [25. 25. 25. 25.]]\n",
      "\n",
      "Exercício 2:\n",
      " [[17. 17.]\n",
      " [17. 17.]]\n"
     ]
    }
   ],
   "source": [
    "import numpy as np\n",
    "\n",
    "# Equação dos 2 exercícios\n",
    "def equacao(A, B, C):\n",
    "    A_transposta = A.transpose()\n",
    "    C_inversa = np.linalg.inv(C)\n",
    "    AxB = A_transposta.dot(B)\n",
    "\n",
    "    A_B = np.add(AxB, B)\n",
    "    resultado = A_B.dot(C_inversa)\n",
    "    return resultado\n",
    "\n",
    "# Código para Exercício 1\n",
    "A1 = np.array([[8,8,8],[8,8,8],[8,8,8]])\n",
    "B1 = np.array([[1,1,1,1],[1,1,1,1],[1,1,1,1]])\n",
    "C1 = np.array([[1,0,0,0],[0,1,0,0],[0,0,1,0],[0,0,0,1]])\n",
    "\n",
    "q1 = equacao(A1, B1, C1)\n",
    "print('Exercício 1:\\n', q1)\n",
    "\n",
    "# Código para Exercício 2\n",
    "A2 = np.array([[8,8],[8,8]])\n",
    "B2 = np.array([[1,1],[1,1]])\n",
    "C2 = np.array([[1,0],[0,1]])\n",
    "\n",
    "q2 = equacao(A2, B2, C2)\n",
    "print('\\nExercício 2:\\n', q2)"
   ]
  },
  {
   "cell_type": "markdown",
   "metadata": {},
   "source": [
    "## Questão 2\n",
    "**2A.** Escreva uma função python que recebe $m$ como entrada e executa os seguintes passos:\n",
    "1. [ ] gera uma matriz aleatória $W_{m \\times 4}$ (função **numpy.random.randn**),\n",
    "2. [ ] divide cada uma das entradas por $\\sqrt{m}$ (salva resultado em $\\tilde W$),\n",
    "3. [ ] calcula $Z = \\tilde W^\\top \\times \\tilde W$,\n",
    "4. [ ] imprime $Z$,\n",
    "5. [ ] calcula a norma Frobenius da diferença entre $Z$ e a matriz identidade $I_{4 \\times 4}$."
   ]
  },
  {
   "cell_type": "code",
   "execution_count": 12,
   "metadata": {
    "ExecuteTime": {
     "end_time": "2020-03-10T19:15:39.272717Z",
     "start_time": "2020-03-10T19:15:39.270724Z"
    }
   },
   "outputs": [],
   "source": [
    "# Código para Exercício 2\n",
    "def Frobenius(m):\n",
    "    W = np.random.randn(m, 4)\n",
    "    W2 = W / np.sqrt(m)\n",
    "    Z = (W2.transpose()).dot(W2)\n",
    "    print(Z)\n",
    "    \n",
    "    # Frobenius\n",
    "    I = np.array([[1,0,0,0],[0,1,0,0],[0,0,1,0],[0,0,0,1]])\n",
    "    sub = np.subtract(Z, I)\n",
    "    return np.linalg.norm(sub, 'fro')"
   ]
  },
  {
   "cell_type": "markdown",
   "metadata": {},
   "source": [
    "**2B.** Qual a norma da diferença obtida para $m=100$? E para $m=10000$?"
   ]
  },
  {
   "cell_type": "markdown",
   "metadata": {},
   "source": [
    "Resposta:"
   ]
  },
  {
   "cell_type": "code",
   "execution_count": 13,
   "metadata": {},
   "outputs": [
    {
     "name": "stdout",
     "output_type": "stream",
     "text": [
      "m = 100\n",
      "[[ 1.20598516  0.10445493 -0.15978146  0.13114251]\n",
      " [ 0.10445493  0.99122633  0.25647036 -0.15381151]\n",
      " [-0.15978146  0.25647036  1.18740086  0.16335364]\n",
      " [ 0.13114251 -0.15381151  0.16335364  1.34106165]]\n",
      "0.7303878955710206\n",
      "\n",
      "m = 1000\n",
      "[[ 0.97643119  0.0651096  -0.06486148  0.05103092]\n",
      " [ 0.0651096   0.99687947  0.02599664 -0.07003536]\n",
      " [-0.06486148  0.02599664  0.96942026 -0.0470107 ]\n",
      " [ 0.05103092 -0.07003536 -0.0470107   0.96844035]]\n",
      "0.2004464402801794\n"
     ]
    }
   ],
   "source": [
    "print('m = 100')\n",
    "print(Frobenius(100))\n",
    "print('\\nm = 1000')\n",
    "print(Frobenius(1000))"
   ]
  },
  {
   "cell_type": "markdown",
   "metadata": {},
   "source": [
    "**2C.** O que podemos dizer sobre a matriz $\\tilde W$?"
   ]
  },
  {
   "cell_type": "markdown",
   "metadata": {},
   "source": [
    "Resposta: \n",
    "Enquanto a matriz $W$ pode ser uma projeção qualquer em um subespaço, a matriz $\\tilde W$ poderá corresponder a projeção de um complemento ortogonal do subespaço de $W$."
   ]
  },
  {
   "cell_type": "code",
   "execution_count": null,
   "metadata": {},
   "outputs": [],
   "source": []
  }
 ],
 "metadata": {
  "kernelspec": {
   "display_name": "Python 3",
   "language": "python",
   "name": "python3"
  },
  "language_info": {
   "codemirror_mode": {
    "name": "ipython",
    "version": 3
   },
   "file_extension": ".py",
   "mimetype": "text/x-python",
   "name": "python",
   "nbconvert_exporter": "python",
   "pygments_lexer": "ipython3",
   "version": "3.7.4"
  }
 },
 "nbformat": 4,
 "nbformat_minor": 2
}
